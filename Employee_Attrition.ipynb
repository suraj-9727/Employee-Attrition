{
 "cells": [
  {
   "cell_type": "markdown",
   "id": "f29f75eb",
   "metadata": {},
   "source": [
    "# Employee Attrition Analysis\n",
    "\n",
    "## Problem Statement\n",
    "* XYZ company which was established a few years back is facing around a 15% attrition rate for a couple of years. And it's majorly affecting the company in many aspects. In order to understand why employees are leaving the company and reduce the attrition rate XYZ company has approached an HR analytics consultancy for analyzing the data they have. You are playing the HR analyst role in this project and building a dashboard which can help the organization in making data-driven decisions."
   ]
  },
  {
   "cell_type": "code",
   "execution_count": 1,
   "id": "b78a9799",
   "metadata": {},
   "outputs": [],
   "source": [
    "## importing necessary libraries\n",
    "import pandas as pd\n",
    "import numpy as np\n",
    "import seaborn as sns\n",
    "import matplotlib.pyplot as plt"
   ]
  },
  {
   "cell_type": "code",
   "execution_count": 2,
   "id": "c489fd23",
   "metadata": {},
   "outputs": [
    {
     "data": {
      "text/html": [
       "<div>\n",
       "<style scoped>\n",
       "    .dataframe tbody tr th:only-of-type {\n",
       "        vertical-align: middle;\n",
       "    }\n",
       "\n",
       "    .dataframe tbody tr th {\n",
       "        vertical-align: top;\n",
       "    }\n",
       "\n",
       "    .dataframe thead th {\n",
       "        text-align: right;\n",
       "    }\n",
       "</style>\n",
       "<table border=\"1\" class=\"dataframe\">\n",
       "  <thead>\n",
       "    <tr style=\"text-align: right;\">\n",
       "      <th></th>\n",
       "      <th>EmployeeID</th>\n",
       "      <th>Age</th>\n",
       "      <th>Attrition</th>\n",
       "      <th>BusinessTravel</th>\n",
       "      <th>Department</th>\n",
       "      <th>DistanceFromHome</th>\n",
       "      <th>Education</th>\n",
       "      <th>EducationField</th>\n",
       "      <th>Gender</th>\n",
       "      <th>JobLevel</th>\n",
       "      <th>JobRole</th>\n",
       "      <th>MaritalStatus</th>\n",
       "      <th>MonthlyIncome</th>\n",
       "      <th>NumCompaniesWorked</th>\n",
       "      <th>Over18</th>\n",
       "      <th>PercentSalaryHike</th>\n",
       "      <th>StockOptionLevel</th>\n",
       "      <th>TotalWorkingYears</th>\n",
       "      <th>TrainingTimesLastYear</th>\n",
       "      <th>YearsAtCompany</th>\n",
       "      <th>YearsSinceLastPromotion</th>\n",
       "      <th>YearsWithCurrManager</th>\n",
       "      <th>EnvironmentSatisfaction</th>\n",
       "      <th>JobSatisfaction</th>\n",
       "      <th>WorkLifeBalance</th>\n",
       "      <th>JobInvolvement</th>\n",
       "      <th>PerformanceRating</th>\n",
       "    </tr>\n",
       "  </thead>\n",
       "  <tbody>\n",
       "    <tr>\n",
       "      <th>0</th>\n",
       "      <td>1</td>\n",
       "      <td>51</td>\n",
       "      <td>No</td>\n",
       "      <td>Travel_Rarely</td>\n",
       "      <td>Sales</td>\n",
       "      <td>6</td>\n",
       "      <td>2</td>\n",
       "      <td>Life Sciences</td>\n",
       "      <td>Female</td>\n",
       "      <td>1</td>\n",
       "      <td>Healthcare Representative</td>\n",
       "      <td>Married</td>\n",
       "      <td>131160</td>\n",
       "      <td>1</td>\n",
       "      <td>Y</td>\n",
       "      <td>11</td>\n",
       "      <td>0</td>\n",
       "      <td>1</td>\n",
       "      <td>6</td>\n",
       "      <td>1</td>\n",
       "      <td>0</td>\n",
       "      <td>0</td>\n",
       "      <td>3</td>\n",
       "      <td>4</td>\n",
       "      <td>2</td>\n",
       "      <td>3</td>\n",
       "      <td>3</td>\n",
       "    </tr>\n",
       "    <tr>\n",
       "      <th>1</th>\n",
       "      <td>2</td>\n",
       "      <td>31</td>\n",
       "      <td>Yes</td>\n",
       "      <td>Travel_Frequently</td>\n",
       "      <td>Research &amp; Development</td>\n",
       "      <td>10</td>\n",
       "      <td>1</td>\n",
       "      <td>Life Sciences</td>\n",
       "      <td>Female</td>\n",
       "      <td>1</td>\n",
       "      <td>Research Scientist</td>\n",
       "      <td>Single</td>\n",
       "      <td>41890</td>\n",
       "      <td>0</td>\n",
       "      <td>Y</td>\n",
       "      <td>23</td>\n",
       "      <td>1</td>\n",
       "      <td>6</td>\n",
       "      <td>3</td>\n",
       "      <td>5</td>\n",
       "      <td>1</td>\n",
       "      <td>4</td>\n",
       "      <td>3</td>\n",
       "      <td>2</td>\n",
       "      <td>4</td>\n",
       "      <td>2</td>\n",
       "      <td>4</td>\n",
       "    </tr>\n",
       "    <tr>\n",
       "      <th>2</th>\n",
       "      <td>3</td>\n",
       "      <td>32</td>\n",
       "      <td>No</td>\n",
       "      <td>Travel_Frequently</td>\n",
       "      <td>Research &amp; Development</td>\n",
       "      <td>17</td>\n",
       "      <td>4</td>\n",
       "      <td>Other</td>\n",
       "      <td>Male</td>\n",
       "      <td>4</td>\n",
       "      <td>Sales Executive</td>\n",
       "      <td>Married</td>\n",
       "      <td>193280</td>\n",
       "      <td>1</td>\n",
       "      <td>Y</td>\n",
       "      <td>15</td>\n",
       "      <td>3</td>\n",
       "      <td>5</td>\n",
       "      <td>2</td>\n",
       "      <td>5</td>\n",
       "      <td>0</td>\n",
       "      <td>3</td>\n",
       "      <td>2</td>\n",
       "      <td>2</td>\n",
       "      <td>1</td>\n",
       "      <td>3</td>\n",
       "      <td>3</td>\n",
       "    </tr>\n",
       "    <tr>\n",
       "      <th>3</th>\n",
       "      <td>4</td>\n",
       "      <td>38</td>\n",
       "      <td>No</td>\n",
       "      <td>Non-Travel</td>\n",
       "      <td>Research &amp; Development</td>\n",
       "      <td>2</td>\n",
       "      <td>5</td>\n",
       "      <td>Life Sciences</td>\n",
       "      <td>Male</td>\n",
       "      <td>3</td>\n",
       "      <td>Human Resources</td>\n",
       "      <td>Married</td>\n",
       "      <td>83210</td>\n",
       "      <td>3</td>\n",
       "      <td>Y</td>\n",
       "      <td>11</td>\n",
       "      <td>3</td>\n",
       "      <td>13</td>\n",
       "      <td>5</td>\n",
       "      <td>8</td>\n",
       "      <td>7</td>\n",
       "      <td>5</td>\n",
       "      <td>4</td>\n",
       "      <td>4</td>\n",
       "      <td>3</td>\n",
       "      <td>2</td>\n",
       "      <td>3</td>\n",
       "    </tr>\n",
       "    <tr>\n",
       "      <th>4</th>\n",
       "      <td>5</td>\n",
       "      <td>32</td>\n",
       "      <td>No</td>\n",
       "      <td>Travel_Rarely</td>\n",
       "      <td>Research &amp; Development</td>\n",
       "      <td>10</td>\n",
       "      <td>1</td>\n",
       "      <td>Medical</td>\n",
       "      <td>Male</td>\n",
       "      <td>1</td>\n",
       "      <td>Sales Executive</td>\n",
       "      <td>Single</td>\n",
       "      <td>23420</td>\n",
       "      <td>4</td>\n",
       "      <td>Y</td>\n",
       "      <td>12</td>\n",
       "      <td>2</td>\n",
       "      <td>9</td>\n",
       "      <td>2</td>\n",
       "      <td>6</td>\n",
       "      <td>0</td>\n",
       "      <td>4</td>\n",
       "      <td>4</td>\n",
       "      <td>1</td>\n",
       "      <td>3</td>\n",
       "      <td>3</td>\n",
       "      <td>3</td>\n",
       "    </tr>\n",
       "  </tbody>\n",
       "</table>\n",
       "</div>"
      ],
      "text/plain": [
       "   EmployeeID  Age Attrition     BusinessTravel              Department  \\\n",
       "0           1   51        No      Travel_Rarely                   Sales   \n",
       "1           2   31       Yes  Travel_Frequently  Research & Development   \n",
       "2           3   32        No  Travel_Frequently  Research & Development   \n",
       "3           4   38        No         Non-Travel  Research & Development   \n",
       "4           5   32        No      Travel_Rarely  Research & Development   \n",
       "\n",
       "   DistanceFromHome  Education EducationField  Gender  JobLevel  \\\n",
       "0                 6          2  Life Sciences  Female         1   \n",
       "1                10          1  Life Sciences  Female         1   \n",
       "2                17          4          Other    Male         4   \n",
       "3                 2          5  Life Sciences    Male         3   \n",
       "4                10          1        Medical    Male         1   \n",
       "\n",
       "                     JobRole MaritalStatus  MonthlyIncome  NumCompaniesWorked  \\\n",
       "0  Healthcare Representative       Married         131160                   1   \n",
       "1         Research Scientist        Single          41890                   0   \n",
       "2            Sales Executive       Married         193280                   1   \n",
       "3            Human Resources       Married          83210                   3   \n",
       "4            Sales Executive        Single          23420                   4   \n",
       "\n",
       "  Over18  PercentSalaryHike  StockOptionLevel  TotalWorkingYears  \\\n",
       "0      Y                 11                 0                  1   \n",
       "1      Y                 23                 1                  6   \n",
       "2      Y                 15                 3                  5   \n",
       "3      Y                 11                 3                 13   \n",
       "4      Y                 12                 2                  9   \n",
       "\n",
       "   TrainingTimesLastYear  YearsAtCompany  YearsSinceLastPromotion  \\\n",
       "0                      6               1                        0   \n",
       "1                      3               5                        1   \n",
       "2                      2               5                        0   \n",
       "3                      5               8                        7   \n",
       "4                      2               6                        0   \n",
       "\n",
       "   YearsWithCurrManager  EnvironmentSatisfaction  JobSatisfaction  \\\n",
       "0                     0                        3                4   \n",
       "1                     4                        3                2   \n",
       "2                     3                        2                2   \n",
       "3                     5                        4                4   \n",
       "4                     4                        4                1   \n",
       "\n",
       "   WorkLifeBalance  JobInvolvement  PerformanceRating  \n",
       "0                2               3                  3  \n",
       "1                4               2                  4  \n",
       "2                1               3                  3  \n",
       "3                3               2                  3  \n",
       "4                3               3                  3  "
      ]
     },
     "execution_count": 2,
     "metadata": {},
     "output_type": "execute_result"
    }
   ],
   "source": [
    "## reading the dataset\n",
    "df = pd.read_csv('Attrition data.csv')\n",
    "pd.set_option('display.max_columns', None)\n",
    "df.head()"
   ]
  },
  {
   "cell_type": "code",
   "execution_count": 3,
   "id": "1f91953d",
   "metadata": {},
   "outputs": [
    {
     "data": {
      "text/plain": [
       "(4390, 27)"
      ]
     },
     "execution_count": 3,
     "metadata": {},
     "output_type": "execute_result"
    }
   ],
   "source": [
    "df.shape"
   ]
  },
  {
   "cell_type": "markdown",
   "id": "f24cd268",
   "metadata": {},
   "source": [
    "We have 4410 rows and total of 29 columns of data."
   ]
  },
  {
   "cell_type": "code",
   "execution_count": 4,
   "id": "b39bcec3",
   "metadata": {},
   "outputs": [
    {
     "name": "stdout",
     "output_type": "stream",
     "text": [
      "<class 'pandas.core.frame.DataFrame'>\n",
      "RangeIndex: 4390 entries, 0 to 4389\n",
      "Data columns (total 27 columns):\n",
      " #   Column                   Non-Null Count  Dtype \n",
      "---  ------                   --------------  ----- \n",
      " 0   EmployeeID               4390 non-null   int64 \n",
      " 1   Age                      4390 non-null   int64 \n",
      " 2   Attrition                4390 non-null   object\n",
      " 3   BusinessTravel           4390 non-null   object\n",
      " 4   Department               4390 non-null   object\n",
      " 5   DistanceFromHome         4390 non-null   int64 \n",
      " 6   Education                4390 non-null   int64 \n",
      " 7   EducationField           4390 non-null   object\n",
      " 8   Gender                   4390 non-null   object\n",
      " 9   JobLevel                 4390 non-null   int64 \n",
      " 10  JobRole                  4390 non-null   object\n",
      " 11  MaritalStatus            4390 non-null   object\n",
      " 12  MonthlyIncome            4390 non-null   int64 \n",
      " 13  NumCompaniesWorked       4390 non-null   int64 \n",
      " 14  Over18                   4390 non-null   object\n",
      " 15  PercentSalaryHike        4390 non-null   int64 \n",
      " 16  StockOptionLevel         4390 non-null   int64 \n",
      " 17  TotalWorkingYears        4390 non-null   int64 \n",
      " 18  TrainingTimesLastYear    4390 non-null   int64 \n",
      " 19  YearsAtCompany           4390 non-null   int64 \n",
      " 20  YearsSinceLastPromotion  4390 non-null   int64 \n",
      " 21  YearsWithCurrManager     4390 non-null   int64 \n",
      " 22  EnvironmentSatisfaction  4390 non-null   int64 \n",
      " 23  JobSatisfaction          4390 non-null   int64 \n",
      " 24  WorkLifeBalance          4390 non-null   int64 \n",
      " 25  JobInvolvement           4390 non-null   int64 \n",
      " 26  PerformanceRating        4390 non-null   int64 \n",
      "dtypes: int64(19), object(8)\n",
      "memory usage: 926.1+ KB\n"
     ]
    }
   ],
   "source": [
    "df.info()"
   ]
  },
  {
   "cell_type": "code",
   "execution_count": 5,
   "id": "59efc14d",
   "metadata": {},
   "outputs": [
    {
     "data": {
      "text/plain": [
       "EmployeeID                 0\n",
       "Age                        0\n",
       "Attrition                  0\n",
       "BusinessTravel             0\n",
       "Department                 0\n",
       "DistanceFromHome           0\n",
       "Education                  0\n",
       "EducationField             0\n",
       "Gender                     0\n",
       "JobLevel                   0\n",
       "JobRole                    0\n",
       "MaritalStatus              0\n",
       "MonthlyIncome              0\n",
       "NumCompaniesWorked         0\n",
       "Over18                     0\n",
       "PercentSalaryHike          0\n",
       "StockOptionLevel           0\n",
       "TotalWorkingYears          0\n",
       "TrainingTimesLastYear      0\n",
       "YearsAtCompany             0\n",
       "YearsSinceLastPromotion    0\n",
       "YearsWithCurrManager       0\n",
       "EnvironmentSatisfaction    0\n",
       "JobSatisfaction            0\n",
       "WorkLifeBalance            0\n",
       "JobInvolvement             0\n",
       "PerformanceRating          0\n",
       "dtype: int64"
      ]
     },
     "execution_count": 5,
     "metadata": {},
     "output_type": "execute_result"
    }
   ],
   "source": [
    "## checking for null values\n",
    "df.isna().sum()"
   ]
  },
  {
   "cell_type": "code",
   "execution_count": 6,
   "id": "7489ba17",
   "metadata": {},
   "outputs": [
    {
     "data": {
      "text/plain": [
       "0"
      ]
     },
     "execution_count": 6,
     "metadata": {},
     "output_type": "execute_result"
    }
   ],
   "source": [
    "## checking for duplicate values\n",
    "df.duplicated().sum()"
   ]
  },
  {
   "cell_type": "markdown",
   "id": "2a86fc39",
   "metadata": {},
   "source": [
    "We have no duplicate values. So, now we have clean data with no duplicates."
   ]
  },
  {
   "cell_type": "code",
   "execution_count": 7,
   "id": "52f2802a",
   "metadata": {},
   "outputs": [
    {
     "data": {
      "text/plain": [
       "EmployeeID                 4390\n",
       "Age                          43\n",
       "Attrition                     2\n",
       "BusinessTravel                3\n",
       "Department                    3\n",
       "DistanceFromHome             29\n",
       "Education                     5\n",
       "EducationField                6\n",
       "Gender                        2\n",
       "JobLevel                      5\n",
       "JobRole                       9\n",
       "MaritalStatus                 3\n",
       "MonthlyIncome              1349\n",
       "NumCompaniesWorked           10\n",
       "Over18                        1\n",
       "PercentSalaryHike            15\n",
       "StockOptionLevel              4\n",
       "TotalWorkingYears            40\n",
       "TrainingTimesLastYear         7\n",
       "YearsAtCompany               37\n",
       "YearsSinceLastPromotion      16\n",
       "YearsWithCurrManager         18\n",
       "EnvironmentSatisfaction       5\n",
       "JobSatisfaction               4\n",
       "WorkLifeBalance               5\n",
       "JobInvolvement                4\n",
       "PerformanceRating             2\n",
       "dtype: int64"
      ]
     },
     "execution_count": 7,
     "metadata": {},
     "output_type": "execute_result"
    }
   ],
   "source": [
    "## let's see the uniqueness of data by finding number of unique values in all columns\n",
    "df.nunique()"
   ]
  },
  {
   "cell_type": "markdown",
   "id": "bfc56b54",
   "metadata": {},
   "source": [
    "**We will drop the columns having only one unique value.**"
   ]
  },
  {
   "cell_type": "code",
   "execution_count": 8,
   "id": "06a54665",
   "metadata": {},
   "outputs": [
    {
     "data": {
      "text/plain": [
       "EmployeeID                 4390\n",
       "Age                          43\n",
       "Attrition                     2\n",
       "BusinessTravel                3\n",
       "Department                    3\n",
       "DistanceFromHome             29\n",
       "Education                     5\n",
       "EducationField                6\n",
       "Gender                        2\n",
       "JobLevel                      5\n",
       "JobRole                       9\n",
       "MaritalStatus                 3\n",
       "MonthlyIncome              1349\n",
       "NumCompaniesWorked           10\n",
       "PercentSalaryHike            15\n",
       "StockOptionLevel              4\n",
       "TotalWorkingYears            40\n",
       "TrainingTimesLastYear         7\n",
       "YearsAtCompany               37\n",
       "YearsSinceLastPromotion      16\n",
       "YearsWithCurrManager         18\n",
       "EnvironmentSatisfaction       5\n",
       "JobSatisfaction               4\n",
       "WorkLifeBalance               5\n",
       "JobInvolvement                4\n",
       "PerformanceRating             2\n",
       "dtype: int64"
      ]
     },
     "execution_count": 8,
     "metadata": {},
     "output_type": "execute_result"
    }
   ],
   "source": [
    "df.drop(columns=['Over18'],inplace=True)\n",
    "df.nunique()"
   ]
  },
  {
   "cell_type": "markdown",
   "id": "65bce703",
   "metadata": {},
   "source": []
  },
  {
   "cell_type": "markdown",
   "id": "3204e46a",
   "metadata": {},
   "source": [
    "### Transforming the values of some numerical columns for easy understandings."
   ]
  },
  {
   "cell_type": "code",
   "execution_count": 9,
   "id": "fd4acf96",
   "metadata": {},
   "outputs": [
    {
     "data": {
      "text/plain": [
       "Age\n",
       "25-34    1654\n",
       "35-44    1506\n",
       "45-54     733\n",
       "18-24     291\n",
       "55+       206\n",
       "Name: count, dtype: int64"
      ]
     },
     "execution_count": 9,
     "metadata": {},
     "output_type": "execute_result"
    }
   ],
   "source": [
    "## Age\n",
    "bins = [18, 25, 35, 45, 55, 65]  # You can adjust the bin edges as needed\n",
    "labels = ['18-24', '25-34', '35-44', '45-54', '55+']\n",
    "df['Age'] = pd.cut(df['Age'], bins=bins, labels=labels, right=False)\n",
    "df['Age'].value_counts()"
   ]
  },
  {
   "cell_type": "code",
   "execution_count": 10,
   "id": "d4437572",
   "metadata": {
    "scrolled": false
   },
   "outputs": [
    {
     "data": {
      "text/plain": [
       "DistanceFromHome\n",
       "Near        1693\n",
       "Far         1636\n",
       "Very Far    1061\n",
       "Name: count, dtype: int64"
      ]
     },
     "execution_count": 10,
     "metadata": {},
     "output_type": "execute_result"
    }
   ],
   "source": [
    "# Distance from home\n",
    "df['DistanceFromHome'] = pd.cut(df['DistanceFromHome'], bins=[-1, 5, 15, float('inf')],\n",
    "                             labels=['Near', 'Far', 'Very Far'], right=False)\n",
    "df['DistanceFromHome'].value_counts()"
   ]
  },
  {
   "cell_type": "code",
   "execution_count": 11,
   "id": "d3818e52",
   "metadata": {},
   "outputs": [
    {
     "data": {
      "text/plain": [
       "MonthlyIncome\n",
       "10,090-49,999      2235\n",
       "50,000-99,999      1313\n",
       "100,000-149,999     444\n",
       "150,000+            398\n",
       "Name: count, dtype: int64"
      ]
     },
     "execution_count": 11,
     "metadata": {},
     "output_type": "execute_result"
    }
   ],
   "source": [
    "# MonthlyIncome\n",
    "bins_income = [10090, 50000, 100000, 150000, float('inf')]  # Add 'float('inf')' to include values greater than 150,000\n",
    "labels_income = ['10,090-49,999', '50,000-99,999', '100,000-149,999', '150,000+']\n",
    "\n",
    "df['MonthlyIncome'] = pd.cut(df['MonthlyIncome'], bins=bins_income, labels=labels_income, right=False)\n",
    "\n",
    "df['MonthlyIncome'].value_counts()"
   ]
  },
  {
   "cell_type": "code",
   "execution_count": 12,
   "id": "ca1888a7",
   "metadata": {
    "scrolled": true
   },
   "outputs": [
    {
     "data": {
      "text/plain": [
       "TotalWorkingYears\n",
       "6-10     1808\n",
       "0-5       951\n",
       "11-15     571\n",
       "16-20     446\n",
       "21-25     322\n",
       "25+       292\n",
       "Name: count, dtype: int64"
      ]
     },
     "execution_count": 12,
     "metadata": {},
     "output_type": "execute_result"
    }
   ],
   "source": [
    "# Total Working Years\n",
    "bins_years = [0, 6, 11, 16, 21, 26, float('inf')]  # Add 'float('inf')' to include values greater than 26\n",
    "labels_years = ['0-5', '6-10', '11-15', '16-20', '21-25', '25+']\n",
    "\n",
    "df['TotalWorkingYears'] = pd.cut(df['TotalWorkingYears'], bins=bins_years, labels=labels_years, right=False)\n",
    "\n",
    "df['TotalWorkingYears'].value_counts()"
   ]
  },
  {
   "cell_type": "code",
   "execution_count": 13,
   "id": "6fbc6b49",
   "metadata": {},
   "outputs": [
    {
     "data": {
      "text/plain": [
       "NumCompaniesWorked\n",
       "0-4    3064\n",
       "5+     1326\n",
       "Name: count, dtype: int64"
      ]
     },
     "execution_count": 13,
     "metadata": {},
     "output_type": "execute_result"
    }
   ],
   "source": [
    "# NumCompaniesWorked\n",
    "bins_comp_num = [0,4,float('inf')]  # Add 'float('inf')' to include values greater than 26\n",
    "labels_comp_num = ['0-4','5+']\n",
    "\n",
    "df['NumCompaniesWorked'] = pd.cut(df['NumCompaniesWorked'], bins=bins_comp_num, labels=labels_comp_num, right=False)\n",
    "\n",
    "df['NumCompaniesWorked'].value_counts()"
   ]
  },
  {
   "cell_type": "code",
   "execution_count": 14,
   "id": "9fd3a15d",
   "metadata": {},
   "outputs": [
    {
     "data": {
      "text/plain": [
       "YearsAtCompany\n",
       "0-5      2318\n",
       "6-10     1338\n",
       "11-15     323\n",
       "16-20     214\n",
       "21-25     122\n",
       "31+        48\n",
       "26-30      27\n",
       "Name: count, dtype: int64"
      ]
     },
     "execution_count": 14,
     "metadata": {},
     "output_type": "execute_result"
    }
   ],
   "source": [
    "# Years At Company\n",
    "bins_years_comp = [0, 6, 11, 16, 21, 26, 31, float('inf')]  # Add 'float('inf')' to include values greater than 31\n",
    "labels_years_comp = ['0-5', '6-10', '11-15', '16-20', '21-25', '26-30', '31+']\n",
    "\n",
    "df['YearsAtCompany'] = pd.cut(df['YearsAtCompany'], bins=bins_years_comp, labels=labels_years_comp, right=False)\n",
    "\n",
    "df['YearsAtCompany'].value_counts()"
   ]
  },
  {
   "cell_type": "code",
   "execution_count": 15,
   "id": "194d3bfd",
   "metadata": {},
   "outputs": [
    {
     "data": {
      "text/plain": [
       "JobSatisfaction\n",
       "Satisfied       2690\n",
       "Dissatisfied    1700\n",
       "Name: count, dtype: int64"
      ]
     },
     "execution_count": 15,
     "metadata": {},
     "output_type": "execute_result"
    }
   ],
   "source": [
    "## Job Satisfaction\n",
    "df['JobSatisfaction'] = df['JobSatisfaction'].map({1:'Dissatisfied',2:'Dissatisfied',3:'Satisfied',4:'Satisfied'})\n",
    "df['JobSatisfaction'].value_counts()"
   ]
  },
  {
   "cell_type": "code",
   "execution_count": 16,
   "id": "238d9761",
   "metadata": {},
   "outputs": [
    {
     "data": {
      "text/plain": [
       "WorkLifeBalance\n",
       "Better    2646\n",
       "Good      1016\n",
       "Best       452\n",
       "Worst      276\n",
       "Name: count, dtype: int64"
      ]
     },
     "execution_count": 16,
     "metadata": {},
     "output_type": "execute_result"
    }
   ],
   "source": [
    "## WorkLifeBalance\n",
    "group_mapping = {0: 'Worst', 1: 'Worst', 2: 'Good', 3: 'Better', 4: 'Best'}\n",
    "\n",
    "df['WorkLifeBalance'] = df['WorkLifeBalance'].map(group_mapping)\n",
    "df['WorkLifeBalance'].value_counts()"
   ]
  },
  {
   "cell_type": "code",
   "execution_count": 17,
   "id": "216f08b0",
   "metadata": {},
   "outputs": [
    {
     "data": {
      "text/plain": [
       "EnvironmentSatisfaction\n",
       "Satisfied       2671\n",
       "Dissatisfied    1719\n",
       "Name: count, dtype: int64"
      ]
     },
     "execution_count": 17,
     "metadata": {},
     "output_type": "execute_result"
    }
   ],
   "source": [
    "## Environment Satisfaction\n",
    "df['EnvironmentSatisfaction'] = df['EnvironmentSatisfaction'].map(\n",
    "    {0:'Dissatisfied',1:'Dissatisfied',2:'Dissatisfied',3:'Satisfied',4:'Satisfied'}\n",
    ")\n",
    "df['EnvironmentSatisfaction'].value_counts()"
   ]
  },
  {
   "cell_type": "code",
   "execution_count": 18,
   "id": "18e5397c",
   "metadata": {},
   "outputs": [
    {
     "data": {
      "text/plain": [
       "EmployeeID                 4390\n",
       "Age                           5\n",
       "Attrition                     2\n",
       "BusinessTravel                3\n",
       "Department                    3\n",
       "DistanceFromHome              3\n",
       "Education                     5\n",
       "EducationField                6\n",
       "Gender                        2\n",
       "JobLevel                      5\n",
       "JobRole                       9\n",
       "MaritalStatus                 3\n",
       "MonthlyIncome                 4\n",
       "NumCompaniesWorked            2\n",
       "PercentSalaryHike            15\n",
       "StockOptionLevel              4\n",
       "TotalWorkingYears             6\n",
       "TrainingTimesLastYear         7\n",
       "YearsAtCompany                7\n",
       "YearsSinceLastPromotion      16\n",
       "YearsWithCurrManager         18\n",
       "EnvironmentSatisfaction       2\n",
       "JobSatisfaction               2\n",
       "WorkLifeBalance               4\n",
       "JobInvolvement                4\n",
       "PerformanceRating             2\n",
       "dtype: int64"
      ]
     },
     "execution_count": 18,
     "metadata": {},
     "output_type": "execute_result"
    }
   ],
   "source": [
    "## checking for unique values after transforming\n",
    "df.nunique()"
   ]
  },
  {
   "cell_type": "code",
   "execution_count": 19,
   "id": "a0a2571e",
   "metadata": {},
   "outputs": [
    {
     "data": {
      "text/html": [
       "<div>\n",
       "<style scoped>\n",
       "    .dataframe tbody tr th:only-of-type {\n",
       "        vertical-align: middle;\n",
       "    }\n",
       "\n",
       "    .dataframe tbody tr th {\n",
       "        vertical-align: top;\n",
       "    }\n",
       "\n",
       "    .dataframe thead th {\n",
       "        text-align: right;\n",
       "    }\n",
       "</style>\n",
       "<table border=\"1\" class=\"dataframe\">\n",
       "  <thead>\n",
       "    <tr style=\"text-align: right;\">\n",
       "      <th></th>\n",
       "      <th>EmployeeID</th>\n",
       "      <th>Age</th>\n",
       "      <th>Attrition</th>\n",
       "      <th>BusinessTravel</th>\n",
       "      <th>Department</th>\n",
       "      <th>DistanceFromHome</th>\n",
       "      <th>Education</th>\n",
       "      <th>EducationField</th>\n",
       "      <th>Gender</th>\n",
       "      <th>JobLevel</th>\n",
       "      <th>JobRole</th>\n",
       "      <th>MaritalStatus</th>\n",
       "      <th>MonthlyIncome</th>\n",
       "      <th>NumCompaniesWorked</th>\n",
       "      <th>PercentSalaryHike</th>\n",
       "      <th>StockOptionLevel</th>\n",
       "      <th>TotalWorkingYears</th>\n",
       "      <th>TrainingTimesLastYear</th>\n",
       "      <th>YearsAtCompany</th>\n",
       "      <th>YearsSinceLastPromotion</th>\n",
       "      <th>YearsWithCurrManager</th>\n",
       "      <th>EnvironmentSatisfaction</th>\n",
       "      <th>JobSatisfaction</th>\n",
       "      <th>WorkLifeBalance</th>\n",
       "      <th>JobInvolvement</th>\n",
       "      <th>PerformanceRating</th>\n",
       "    </tr>\n",
       "  </thead>\n",
       "  <tbody>\n",
       "    <tr>\n",
       "      <th>0</th>\n",
       "      <td>1</td>\n",
       "      <td>45-54</td>\n",
       "      <td>No</td>\n",
       "      <td>Travel_Rarely</td>\n",
       "      <td>Sales</td>\n",
       "      <td>Far</td>\n",
       "      <td>2</td>\n",
       "      <td>Life Sciences</td>\n",
       "      <td>Female</td>\n",
       "      <td>1</td>\n",
       "      <td>Healthcare Representative</td>\n",
       "      <td>Married</td>\n",
       "      <td>100,000-149,999</td>\n",
       "      <td>0-4</td>\n",
       "      <td>11</td>\n",
       "      <td>0</td>\n",
       "      <td>0-5</td>\n",
       "      <td>6</td>\n",
       "      <td>0-5</td>\n",
       "      <td>0</td>\n",
       "      <td>0</td>\n",
       "      <td>Satisfied</td>\n",
       "      <td>Satisfied</td>\n",
       "      <td>Good</td>\n",
       "      <td>3</td>\n",
       "      <td>3</td>\n",
       "    </tr>\n",
       "    <tr>\n",
       "      <th>1</th>\n",
       "      <td>2</td>\n",
       "      <td>25-34</td>\n",
       "      <td>Yes</td>\n",
       "      <td>Travel_Frequently</td>\n",
       "      <td>Research &amp; Development</td>\n",
       "      <td>Far</td>\n",
       "      <td>1</td>\n",
       "      <td>Life Sciences</td>\n",
       "      <td>Female</td>\n",
       "      <td>1</td>\n",
       "      <td>Research Scientist</td>\n",
       "      <td>Single</td>\n",
       "      <td>10,090-49,999</td>\n",
       "      <td>0-4</td>\n",
       "      <td>23</td>\n",
       "      <td>1</td>\n",
       "      <td>6-10</td>\n",
       "      <td>3</td>\n",
       "      <td>0-5</td>\n",
       "      <td>1</td>\n",
       "      <td>4</td>\n",
       "      <td>Satisfied</td>\n",
       "      <td>Dissatisfied</td>\n",
       "      <td>Best</td>\n",
       "      <td>2</td>\n",
       "      <td>4</td>\n",
       "    </tr>\n",
       "    <tr>\n",
       "      <th>2</th>\n",
       "      <td>3</td>\n",
       "      <td>25-34</td>\n",
       "      <td>No</td>\n",
       "      <td>Travel_Frequently</td>\n",
       "      <td>Research &amp; Development</td>\n",
       "      <td>Very Far</td>\n",
       "      <td>4</td>\n",
       "      <td>Other</td>\n",
       "      <td>Male</td>\n",
       "      <td>4</td>\n",
       "      <td>Sales Executive</td>\n",
       "      <td>Married</td>\n",
       "      <td>150,000+</td>\n",
       "      <td>0-4</td>\n",
       "      <td>15</td>\n",
       "      <td>3</td>\n",
       "      <td>0-5</td>\n",
       "      <td>2</td>\n",
       "      <td>0-5</td>\n",
       "      <td>0</td>\n",
       "      <td>3</td>\n",
       "      <td>Dissatisfied</td>\n",
       "      <td>Dissatisfied</td>\n",
       "      <td>Worst</td>\n",
       "      <td>3</td>\n",
       "      <td>3</td>\n",
       "    </tr>\n",
       "    <tr>\n",
       "      <th>3</th>\n",
       "      <td>4</td>\n",
       "      <td>35-44</td>\n",
       "      <td>No</td>\n",
       "      <td>Non-Travel</td>\n",
       "      <td>Research &amp; Development</td>\n",
       "      <td>Near</td>\n",
       "      <td>5</td>\n",
       "      <td>Life Sciences</td>\n",
       "      <td>Male</td>\n",
       "      <td>3</td>\n",
       "      <td>Human Resources</td>\n",
       "      <td>Married</td>\n",
       "      <td>50,000-99,999</td>\n",
       "      <td>0-4</td>\n",
       "      <td>11</td>\n",
       "      <td>3</td>\n",
       "      <td>11-15</td>\n",
       "      <td>5</td>\n",
       "      <td>6-10</td>\n",
       "      <td>7</td>\n",
       "      <td>5</td>\n",
       "      <td>Satisfied</td>\n",
       "      <td>Satisfied</td>\n",
       "      <td>Better</td>\n",
       "      <td>2</td>\n",
       "      <td>3</td>\n",
       "    </tr>\n",
       "    <tr>\n",
       "      <th>4</th>\n",
       "      <td>5</td>\n",
       "      <td>25-34</td>\n",
       "      <td>No</td>\n",
       "      <td>Travel_Rarely</td>\n",
       "      <td>Research &amp; Development</td>\n",
       "      <td>Far</td>\n",
       "      <td>1</td>\n",
       "      <td>Medical</td>\n",
       "      <td>Male</td>\n",
       "      <td>1</td>\n",
       "      <td>Sales Executive</td>\n",
       "      <td>Single</td>\n",
       "      <td>10,090-49,999</td>\n",
       "      <td>5+</td>\n",
       "      <td>12</td>\n",
       "      <td>2</td>\n",
       "      <td>6-10</td>\n",
       "      <td>2</td>\n",
       "      <td>6-10</td>\n",
       "      <td>0</td>\n",
       "      <td>4</td>\n",
       "      <td>Satisfied</td>\n",
       "      <td>Dissatisfied</td>\n",
       "      <td>Better</td>\n",
       "      <td>3</td>\n",
       "      <td>3</td>\n",
       "    </tr>\n",
       "  </tbody>\n",
       "</table>\n",
       "</div>"
      ],
      "text/plain": [
       "   EmployeeID    Age Attrition     BusinessTravel              Department  \\\n",
       "0           1  45-54        No      Travel_Rarely                   Sales   \n",
       "1           2  25-34       Yes  Travel_Frequently  Research & Development   \n",
       "2           3  25-34        No  Travel_Frequently  Research & Development   \n",
       "3           4  35-44        No         Non-Travel  Research & Development   \n",
       "4           5  25-34        No      Travel_Rarely  Research & Development   \n",
       "\n",
       "  DistanceFromHome  Education EducationField  Gender  JobLevel  \\\n",
       "0              Far          2  Life Sciences  Female         1   \n",
       "1              Far          1  Life Sciences  Female         1   \n",
       "2         Very Far          4          Other    Male         4   \n",
       "3             Near          5  Life Sciences    Male         3   \n",
       "4              Far          1        Medical    Male         1   \n",
       "\n",
       "                     JobRole MaritalStatus    MonthlyIncome  \\\n",
       "0  Healthcare Representative       Married  100,000-149,999   \n",
       "1         Research Scientist        Single    10,090-49,999   \n",
       "2            Sales Executive       Married         150,000+   \n",
       "3            Human Resources       Married    50,000-99,999   \n",
       "4            Sales Executive        Single    10,090-49,999   \n",
       "\n",
       "  NumCompaniesWorked  PercentSalaryHike  StockOptionLevel TotalWorkingYears  \\\n",
       "0                0-4                 11                 0               0-5   \n",
       "1                0-4                 23                 1              6-10   \n",
       "2                0-4                 15                 3               0-5   \n",
       "3                0-4                 11                 3             11-15   \n",
       "4                 5+                 12                 2              6-10   \n",
       "\n",
       "   TrainingTimesLastYear YearsAtCompany  YearsSinceLastPromotion  \\\n",
       "0                      6            0-5                        0   \n",
       "1                      3            0-5                        1   \n",
       "2                      2            0-5                        0   \n",
       "3                      5           6-10                        7   \n",
       "4                      2           6-10                        0   \n",
       "\n",
       "   YearsWithCurrManager EnvironmentSatisfaction JobSatisfaction  \\\n",
       "0                     0               Satisfied       Satisfied   \n",
       "1                     4               Satisfied    Dissatisfied   \n",
       "2                     3            Dissatisfied    Dissatisfied   \n",
       "3                     5               Satisfied       Satisfied   \n",
       "4                     4               Satisfied    Dissatisfied   \n",
       "\n",
       "  WorkLifeBalance  JobInvolvement  PerformanceRating  \n",
       "0            Good               3                  3  \n",
       "1            Best               2                  4  \n",
       "2           Worst               3                  3  \n",
       "3          Better               2                  3  \n",
       "4          Better               3                  3  "
      ]
     },
     "execution_count": 19,
     "metadata": {},
     "output_type": "execute_result"
    }
   ],
   "source": [
    "df.head()"
   ]
  },
  {
   "cell_type": "code",
   "execution_count": 20,
   "id": "4bb215f9",
   "metadata": {
    "scrolled": true
   },
   "outputs": [
    {
     "data": {
      "text/plain": [
       "Attrition\n",
       "No     3680\n",
       "Yes     710\n",
       "Name: count, dtype: int64"
      ]
     },
     "execution_count": 20,
     "metadata": {},
     "output_type": "execute_result"
    }
   ],
   "source": [
    "## let's find how many employee has attrition as Yes and No\n",
    "df['Attrition'].value_counts()"
   ]
  },
  {
   "cell_type": "code",
   "execution_count": 21,
   "id": "4df7ae4a",
   "metadata": {},
   "outputs": [
    {
     "data": {
      "image/png": "[encoded data removed]",
      "text/plain": [
       "<Figure size 500x500 with 1 Axes>"
      ]
     },
     "metadata": {},
     "output_type": "display_data"
    }
   ],
   "source": [
    "## visualise the above data for better understandings\n",
    "attrition_percentage = df['Attrition'].value_counts(normalize=True) * 100\n",
    "\n",
    "# Plotting the pie chart\n",
    "plt.figure(figsize=(5, 5))\n",
    "plt.pie(attrition_percentage, labels=attrition_percentage.index,\n",
    "        autopct='%1.1f%%', startangle=90, colors=['skyblue', 'lightcoral'])\n",
    "plt.title('Attrition Distribution')\n",
    "plt.show()"
   ]
  },
  {
   "cell_type": "code",
   "execution_count": 22,
   "id": "930cc78c",
   "metadata": {},
   "outputs": [
    {
     "data": {
      "text/html": [
       "<div>\n",
       "<style scoped>\n",
       "    .dataframe tbody tr th:only-of-type {\n",
       "        vertical-align: middle;\n",
       "    }\n",
       "\n",
       "    .dataframe tbody tr th {\n",
       "        vertical-align: top;\n",
       "    }\n",
       "\n",
       "    .dataframe thead th {\n",
       "        text-align: right;\n",
       "    }\n",
       "</style>\n",
       "<table border=\"1\" class=\"dataframe\">\n",
       "  <thead>\n",
       "    <tr style=\"text-align: right;\">\n",
       "      <th>Attrition</th>\n",
       "      <th>No</th>\n",
       "      <th>Yes</th>\n",
       "    </tr>\n",
       "    <tr>\n",
       "      <th>Department</th>\n",
       "      <th></th>\n",
       "      <th></th>\n",
       "    </tr>\n",
       "  </thead>\n",
       "  <tbody>\n",
       "    <tr>\n",
       "      <th>Human Resources</th>\n",
       "      <td>132</td>\n",
       "      <td>57</td>\n",
       "    </tr>\n",
       "    <tr>\n",
       "      <th>Research &amp; Development</th>\n",
       "      <td>2415</td>\n",
       "      <td>453</td>\n",
       "    </tr>\n",
       "    <tr>\n",
       "      <th>Sales</th>\n",
       "      <td>1133</td>\n",
       "      <td>200</td>\n",
       "    </tr>\n",
       "  </tbody>\n",
       "</table>\n",
       "</div>"
      ],
      "text/plain": [
       "Attrition                 No  Yes\n",
       "Department                       \n",
       "Human Resources          132   57\n",
       "Research & Development  2415  453\n",
       "Sales                   1133  200"
      ]
     },
     "execution_count": 22,
     "metadata": {},
     "output_type": "execute_result"
    }
   ],
   "source": [
    "## finding which department has highest number of Attrition\n",
    "dept_attr = pd.crosstab(df.Department,df.Attrition)\n",
    "dept_attr"
   ]
  },
  {
   "cell_type": "code",
   "execution_count": 23,
   "id": "3888b1b5",
   "metadata": {},
   "outputs": [
    {
     "data": {
      "text/html": [
       "<div>\n",
       "<style scoped>\n",
       "    .dataframe tbody tr th:only-of-type {\n",
       "        vertical-align: middle;\n",
       "    }\n",
       "\n",
       "    .dataframe tbody tr th {\n",
       "        vertical-align: top;\n",
       "    }\n",
       "\n",
       "    .dataframe thead th {\n",
       "        text-align: right;\n",
       "    }\n",
       "</style>\n",
       "<table border=\"1\" class=\"dataframe\">\n",
       "  <thead>\n",
       "    <tr style=\"text-align: right;\">\n",
       "      <th></th>\n",
       "      <th>Department</th>\n",
       "      <th>Attrition_Rate</th>\n",
       "    </tr>\n",
       "  </thead>\n",
       "  <tbody>\n",
       "    <tr>\n",
       "      <th>0</th>\n",
       "      <td>Human Resources</td>\n",
       "      <td>30.158730</td>\n",
       "    </tr>\n",
       "    <tr>\n",
       "      <th>1</th>\n",
       "      <td>Research &amp; Development</td>\n",
       "      <td>15.794979</td>\n",
       "    </tr>\n",
       "    <tr>\n",
       "      <th>2</th>\n",
       "      <td>Sales</td>\n",
       "      <td>15.003751</td>\n",
       "    </tr>\n",
       "  </tbody>\n",
       "</table>\n",
       "</div>"
      ],
      "text/plain": [
       "               Department  Attrition_Rate\n",
       "0         Human Resources       30.158730\n",
       "1  Research & Development       15.794979\n",
       "2                   Sales       15.003751"
      ]
     },
     "execution_count": 23,
     "metadata": {},
     "output_type": "execute_result"
    }
   ],
   "source": [
    "## finding the attrition rate for all the departments\n",
    "total_attrition_yes = df['Attrition'].eq('Yes').sum()\n",
    "\n",
    "# Create a DataFrame with the count of 'Yes' values in 'Attrition' for each department\n",
    "attrition_by_department = df[df['Attrition'] == 'Yes'].groupby('Department').size().reset_index(name='Attrition_Yes_Count')\n",
    "\n",
    "# Merge the original DataFrame with the new DataFrame to get the total count of employees in each department\n",
    "attrition_by_department = pd.merge(df.groupby('Department').size().reset_index(name='Total_Employees'), attrition_by_department, on='Department', how='left')\n",
    "\n",
    "# Calculate the percentage of 'Yes' values for each department\n",
    "attrition_by_department['Attrition_Rate'] = (attrition_by_department['Attrition_Yes_Count'] / attrition_by_department['Total_Employees']) * 100\n",
    "\n",
    "# Display the result\n",
    "attrition_by_department[['Department', 'Attrition_Rate']]\n"
   ]
  },
  {
   "cell_type": "markdown",
   "id": "533bfdda",
   "metadata": {},
   "source": [
    "### Observations:\n",
    "* HR department has the highest Attrition rate among all the departments.\n",
    "* Although the highest number of Attritions has been seen in `R&D` department."
   ]
  },
  {
   "cell_type": "code",
   "execution_count": 24,
   "id": "996eea54",
   "metadata": {},
   "outputs": [
    {
     "data": {
      "image/png": "[encoded data removed]",
      "text/plain": [
       "<Figure size 900x400 with 1 Axes>"
      ]
     },
     "metadata": {},
     "output_type": "display_data"
    }
   ],
   "source": [
    "## visualinsation for the above\n",
    "grouped_data = df.groupby(['Department', 'Attrition']).size().reset_index(name='Count')\n",
    "\n",
    "# Plotting the count plot\n",
    "plt.figure(figsize=(9, 4))\n",
    "sns.barplot(x='Department', y='Count', hue='Attrition', data=grouped_data)\n",
    "plt.title('Count Plot of Department Attritions')\n",
    "plt.show()\n"
   ]
  },
  {
   "cell_type": "code",
   "execution_count": 25,
   "id": "97141c90",
   "metadata": {},
   "outputs": [
    {
     "data": {
      "text/plain": [
       "BusinessTravel\n",
       "Travel_Rarely        3115\n",
       "Travel_Frequently     827\n",
       "Non-Travel            448\n",
       "Name: count, dtype: int64"
      ]
     },
     "execution_count": 25,
     "metadata": {},
     "output_type": "execute_result"
    }
   ],
   "source": [
    "## Business travel values\n",
    "df['BusinessTravel'].value_counts()"
   ]
  },
  {
   "cell_type": "markdown",
   "id": "619b7001",
   "metadata": {},
   "source": [
    "**Most of the employees `Travel_Rarely` followed by employees who `Travel_Frequently` and least number of employees are `Non-Travel`.**"
   ]
  },
  {
   "cell_type": "code",
   "execution_count": null,
   "id": "f5b9c6f7",
   "metadata": {},
   "outputs": [],
   "source": []
  },
  {
   "cell_type": "code",
   "execution_count": 26,
   "id": "b1740f57",
   "metadata": {},
   "outputs": [
    {
     "data": {
      "text/html": [
       "<div>\n",
       "<style scoped>\n",
       "    .dataframe tbody tr th:only-of-type {\n",
       "        vertical-align: middle;\n",
       "    }\n",
       "\n",
       "    .dataframe tbody tr th {\n",
       "        vertical-align: top;\n",
       "    }\n",
       "\n",
       "    .dataframe thead th {\n",
       "        text-align: right;\n",
       "    }\n",
       "</style>\n",
       "<table border=\"1\" class=\"dataframe\">\n",
       "  <thead>\n",
       "    <tr style=\"text-align: right;\">\n",
       "      <th>BusinessTravel</th>\n",
       "      <th>Non-Travel</th>\n",
       "      <th>Travel_Frequently</th>\n",
       "      <th>Travel_Rarely</th>\n",
       "    </tr>\n",
       "    <tr>\n",
       "      <th>Department</th>\n",
       "      <th></th>\n",
       "      <th></th>\n",
       "      <th></th>\n",
       "    </tr>\n",
       "  </thead>\n",
       "  <tbody>\n",
       "    <tr>\n",
       "      <th>Human Resources</th>\n",
       "      <td>9</td>\n",
       "      <td>24</td>\n",
       "      <td>156</td>\n",
       "    </tr>\n",
       "    <tr>\n",
       "      <th>Research &amp; Development</th>\n",
       "      <td>328</td>\n",
       "      <td>516</td>\n",
       "      <td>2024</td>\n",
       "    </tr>\n",
       "    <tr>\n",
       "      <th>Sales</th>\n",
       "      <td>111</td>\n",
       "      <td>287</td>\n",
       "      <td>935</td>\n",
       "    </tr>\n",
       "  </tbody>\n",
       "</table>\n",
       "</div>"
      ],
      "text/plain": [
       "BusinessTravel          Non-Travel  Travel_Frequently  Travel_Rarely\n",
       "Department                                                          \n",
       "Human Resources                  9                 24            156\n",
       "Research & Development         328                516           2024\n",
       "Sales                          111                287            935"
      ]
     },
     "execution_count": 26,
     "metadata": {},
     "output_type": "execute_result"
    }
   ],
   "source": [
    "## Let's see how many employees travel in each department\n",
    "dept_travel = pd.crosstab(df.Department,df.BusinessTravel)\n",
    "dept_travel"
   ]
  },
  {
   "cell_type": "markdown",
   "id": "ceac7958",
   "metadata": {},
   "source": [
    "## Observations:\n",
    "* HR Department employess prefer to Business Travel less compared to other departments.\n",
    "* And the most Business Travel Department is `Research & Development`.\n",
    "* Also the most `Non-Travellers` are in `Research & Development` department. This is because the most number of employees are working in the **R&D** department."
   ]
  },
  {
   "cell_type": "code",
   "execution_count": 27,
   "id": "c059ef8c",
   "metadata": {},
   "outputs": [
    {
     "data": {
      "text/html": [
       "<div>\n",
       "<style scoped>\n",
       "    .dataframe tbody tr th:only-of-type {\n",
       "        vertical-align: middle;\n",
       "    }\n",
       "\n",
       "    .dataframe tbody tr th {\n",
       "        vertical-align: top;\n",
       "    }\n",
       "\n",
       "    .dataframe thead th {\n",
       "        text-align: right;\n",
       "    }\n",
       "</style>\n",
       "<table border=\"1\" class=\"dataframe\">\n",
       "  <thead>\n",
       "    <tr style=\"text-align: right;\">\n",
       "      <th>Gender</th>\n",
       "      <th>Female</th>\n",
       "      <th>Male</th>\n",
       "    </tr>\n",
       "    <tr>\n",
       "      <th>Department</th>\n",
       "      <th></th>\n",
       "      <th></th>\n",
       "    </tr>\n",
       "  </thead>\n",
       "  <tbody>\n",
       "    <tr>\n",
       "      <th>Human Resources</th>\n",
       "      <td>72</td>\n",
       "      <td>117</td>\n",
       "    </tr>\n",
       "    <tr>\n",
       "      <th>Research &amp; Development</th>\n",
       "      <td>1157</td>\n",
       "      <td>1711</td>\n",
       "    </tr>\n",
       "    <tr>\n",
       "      <th>Sales</th>\n",
       "      <td>528</td>\n",
       "      <td>805</td>\n",
       "    </tr>\n",
       "  </tbody>\n",
       "</table>\n",
       "</div>"
      ],
      "text/plain": [
       "Gender                  Female  Male\n",
       "Department                          \n",
       "Human Resources             72   117\n",
       "Research & Development    1157  1711\n",
       "Sales                      528   805"
      ]
     },
     "execution_count": 27,
     "metadata": {},
     "output_type": "execute_result"
    }
   ],
   "source": [
    "## Male and Female distribution in departments\n",
    "dept_gender = pd.crosstab(df['Department'],df['Gender'])\n",
    "dept_gender"
   ]
  },
  {
   "cell_type": "code",
   "execution_count": 28,
   "id": "be0634e3",
   "metadata": {},
   "outputs": [
    {
     "data": {
      "text/html": [
       "<div>\n",
       "<style scoped>\n",
       "    .dataframe tbody tr th:only-of-type {\n",
       "        vertical-align: middle;\n",
       "    }\n",
       "\n",
       "    .dataframe tbody tr th {\n",
       "        vertical-align: top;\n",
       "    }\n",
       "\n",
       "    .dataframe thead th {\n",
       "        text-align: right;\n",
       "    }\n",
       "</style>\n",
       "<table border=\"1\" class=\"dataframe\">\n",
       "  <thead>\n",
       "    <tr style=\"text-align: right;\">\n",
       "      <th></th>\n",
       "      <th></th>\n",
       "      <th>Attrition Percentage</th>\n",
       "    </tr>\n",
       "    <tr>\n",
       "      <th>Department</th>\n",
       "      <th>Gender</th>\n",
       "      <th></th>\n",
       "    </tr>\n",
       "  </thead>\n",
       "  <tbody>\n",
       "    <tr>\n",
       "      <th rowspan=\"2\" valign=\"top\">Human Resources</th>\n",
       "      <th>Female</th>\n",
       "      <td>29.166667</td>\n",
       "    </tr>\n",
       "    <tr>\n",
       "      <th>Male</th>\n",
       "      <td>30.769231</td>\n",
       "    </tr>\n",
       "    <tr>\n",
       "      <th rowspan=\"2\" valign=\"top\">Research &amp; Development</th>\n",
       "      <th>Female</th>\n",
       "      <td>15.816768</td>\n",
       "    </tr>\n",
       "    <tr>\n",
       "      <th>Male</th>\n",
       "      <td>15.780245</td>\n",
       "    </tr>\n",
       "    <tr>\n",
       "      <th rowspan=\"2\" valign=\"top\">Sales</th>\n",
       "      <th>Female</th>\n",
       "      <td>12.500000</td>\n",
       "    </tr>\n",
       "    <tr>\n",
       "      <th>Male</th>\n",
       "      <td>16.645963</td>\n",
       "    </tr>\n",
       "  </tbody>\n",
       "</table>\n",
       "</div>"
      ],
      "text/plain": [
       "                               Attrition Percentage\n",
       "Department             Gender                      \n",
       "Human Resources        Female             29.166667\n",
       "                       Male               30.769231\n",
       "Research & Development Female             15.816768\n",
       "                       Male               15.780245\n",
       "Sales                  Female             12.500000\n",
       "                       Male               16.645963"
      ]
     },
     "execution_count": 28,
     "metadata": {},
     "output_type": "execute_result"
    }
   ],
   "source": [
    "# Calculating the Attrition rate in each department for male and female\n",
    "attrition_count = df.groupby(['Department', 'Gender'])['Attrition'].value_counts().unstack()\n",
    "\n",
    "# Calculate the percentage of attrition as 'Yes' for each gender within each department\n",
    "attrition_percentage = (attrition_count['Yes'] / attrition_count.sum(axis=1)) * 100\n",
    "\n",
    "# Combine count and percentage into a DataFrame\n",
    "attrition_summary = pd.DataFrame({'Attrition Percentage': attrition_percentage})\n",
    "\n",
    "attrition_summary"
   ]
  },
  {
   "cell_type": "code",
   "execution_count": 29,
   "id": "ff7abe41",
   "metadata": {},
   "outputs": [
    {
     "data": {
      "text/plain": [
       "(4390, 26)"
      ]
     },
     "execution_count": 29,
     "metadata": {},
     "output_type": "execute_result"
    }
   ],
   "source": [
    "df.shape"
   ]
  },
  {
   "cell_type": "code",
   "execution_count": 30,
   "id": "a228d9a6",
   "metadata": {
    "scrolled": false
   },
   "outputs": [
    {
     "data": {
      "text/html": [
       "\n",
       "        <iframe\n",
       "            width=\"100%\"\n",
       "            height=\"500\"\n",
       "            src=\"pivottablejs.html\"\n",
       "            frameborder=\"0\"\n",
       "            allowfullscreen\n",
       "            \n",
       "        ></iframe>\n",
       "        "
      ],
      "text/plain": [
       "<IPython.lib.display.IFrame at 0x1a78eed0a60>"
      ]
     },
     "execution_count": 30,
     "metadata": {},
     "output_type": "execute_result"
    }
   ],
   "source": [
    "## creating pivot table and other charts easily.\n",
    "from pivottablejs import pivot_ui\n",
    "pivot_ui(df)"
   ]
  },
  {
   "cell_type": "code",
   "execution_count": null,
   "id": "2c20d9aa",
   "metadata": {},
   "outputs": [],
   "source": []
  },
  {
   "cell_type": "code",
   "execution_count": 31,
   "id": "7aab6fc9",
   "metadata": {},
   "outputs": [
    {
     "data": {
      "text/html": [
       "<div>\n",
       "<style scoped>\n",
       "    .dataframe tbody tr th:only-of-type {\n",
       "        vertical-align: middle;\n",
       "    }\n",
       "\n",
       "    .dataframe tbody tr th {\n",
       "        vertical-align: top;\n",
       "    }\n",
       "\n",
       "    .dataframe thead th {\n",
       "        text-align: right;\n",
       "    }\n",
       "</style>\n",
       "<table border=\"1\" class=\"dataframe\">\n",
       "  <thead>\n",
       "    <tr style=\"text-align: right;\">\n",
       "      <th>EducationField</th>\n",
       "      <th>Human Resources</th>\n",
       "      <th>Life Sciences</th>\n",
       "      <th>Marketing</th>\n",
       "      <th>Medical</th>\n",
       "      <th>Other</th>\n",
       "      <th>Technical Degree</th>\n",
       "    </tr>\n",
       "    <tr>\n",
       "      <th>Department</th>\n",
       "      <th></th>\n",
       "      <th></th>\n",
       "      <th></th>\n",
       "      <th></th>\n",
       "      <th></th>\n",
       "      <th></th>\n",
       "    </tr>\n",
       "  </thead>\n",
       "  <tbody>\n",
       "    <tr>\n",
       "      <th>Human Resources</th>\n",
       "      <td>81</td>\n",
       "      <td>48</td>\n",
       "      <td>0</td>\n",
       "      <td>39</td>\n",
       "      <td>9</td>\n",
       "      <td>12</td>\n",
       "    </tr>\n",
       "    <tr>\n",
       "      <th>Research &amp; Development</th>\n",
       "      <td>0</td>\n",
       "      <td>1311</td>\n",
       "      <td>0</td>\n",
       "      <td>1086</td>\n",
       "      <td>190</td>\n",
       "      <td>281</td>\n",
       "    </tr>\n",
       "    <tr>\n",
       "      <th>Sales</th>\n",
       "      <td>0</td>\n",
       "      <td>446</td>\n",
       "      <td>477</td>\n",
       "      <td>263</td>\n",
       "      <td>45</td>\n",
       "      <td>102</td>\n",
       "    </tr>\n",
       "  </tbody>\n",
       "</table>\n",
       "</div>"
      ],
      "text/plain": [
       "EducationField          Human Resources  Life Sciences  Marketing  Medical  \\\n",
       "Department                                                                   \n",
       "Human Resources                      81             48          0       39   \n",
       "Research & Development                0           1311          0     1086   \n",
       "Sales                                 0            446        477      263   \n",
       "\n",
       "EducationField          Other  Technical Degree  \n",
       "Department                                       \n",
       "Human Resources             9                12  \n",
       "Research & Development    190               281  \n",
       "Sales                      45               102  "
      ]
     },
     "execution_count": 31,
     "metadata": {},
     "output_type": "execute_result"
    }
   ],
   "source": [
    "## let's see the number of employees in different education field by departments\n",
    "education_field_depart = pd.crosstab(df['Department'], df['EducationField'])\n",
    "education_field_depart"
   ]
  },
  {
   "cell_type": "markdown",
   "id": "9cdc908b",
   "metadata": {},
   "source": [
    "## Observations:\n",
    "* There are no employees in Marketing in deaprtments **`HR`** and **`R&D`**, as the field suggests that they should be in Sales only.\n",
    "* Same for the Human Resources field also."
   ]
  },
  {
   "cell_type": "code",
   "execution_count": null,
   "id": "14e8c2a2",
   "metadata": {},
   "outputs": [],
   "source": []
  },
  {
   "cell_type": "code",
   "execution_count": 32,
   "id": "d6569cab",
   "metadata": {},
   "outputs": [
    {
     "data": {
      "text/html": [
       "<div>\n",
       "<style scoped>\n",
       "    .dataframe tbody tr th:only-of-type {\n",
       "        vertical-align: middle;\n",
       "    }\n",
       "\n",
       "    .dataframe tbody tr th {\n",
       "        vertical-align: top;\n",
       "    }\n",
       "\n",
       "    .dataframe thead th {\n",
       "        text-align: right;\n",
       "    }\n",
       "</style>\n",
       "<table border=\"1\" class=\"dataframe\">\n",
       "  <thead>\n",
       "    <tr style=\"text-align: right;\">\n",
       "      <th>EducationField</th>\n",
       "      <th>Human Resources</th>\n",
       "      <th>Life Sciences</th>\n",
       "      <th>Marketing</th>\n",
       "      <th>Medical</th>\n",
       "      <th>Other</th>\n",
       "      <th>Technical Degree</th>\n",
       "    </tr>\n",
       "    <tr>\n",
       "      <th>Attrition</th>\n",
       "      <th></th>\n",
       "      <th></th>\n",
       "      <th></th>\n",
       "      <th></th>\n",
       "      <th></th>\n",
       "      <th></th>\n",
       "    </tr>\n",
       "  </thead>\n",
       "  <tbody>\n",
       "    <tr>\n",
       "      <th>No</th>\n",
       "      <td>48</td>\n",
       "      <td>1503</td>\n",
       "      <td>402</td>\n",
       "      <td>1163</td>\n",
       "      <td>214</td>\n",
       "      <td>350</td>\n",
       "    </tr>\n",
       "    <tr>\n",
       "      <th>Yes</th>\n",
       "      <td>33</td>\n",
       "      <td>302</td>\n",
       "      <td>75</td>\n",
       "      <td>225</td>\n",
       "      <td>30</td>\n",
       "      <td>45</td>\n",
       "    </tr>\n",
       "  </tbody>\n",
       "</table>\n",
       "</div>"
      ],
      "text/plain": [
       "EducationField  Human Resources  Life Sciences  Marketing  Medical  Other  \\\n",
       "Attrition                                                                   \n",
       "No                           48           1503        402     1163    214   \n",
       "Yes                          33            302         75      225     30   \n",
       "\n",
       "EducationField  Technical Degree  \n",
       "Attrition                         \n",
       "No                           350  \n",
       "Yes                           45  "
      ]
     },
     "execution_count": 32,
     "metadata": {},
     "output_type": "execute_result"
    }
   ],
   "source": [
    "## Attritions in Education field\n",
    "attr_edu = pd.crosstab(df['Attrition'], df['EducationField'])\n",
    "attr_edu"
   ]
  },
  {
   "cell_type": "code",
   "execution_count": 33,
   "id": "c1051aeb",
   "metadata": {},
   "outputs": [
    {
     "data": {
      "text/html": [
       "<div>\n",
       "<style scoped>\n",
       "    .dataframe tbody tr th:only-of-type {\n",
       "        vertical-align: middle;\n",
       "    }\n",
       "\n",
       "    .dataframe tbody tr th {\n",
       "        vertical-align: top;\n",
       "    }\n",
       "\n",
       "    .dataframe thead th {\n",
       "        text-align: right;\n",
       "    }\n",
       "</style>\n",
       "<table border=\"1\" class=\"dataframe\">\n",
       "  <thead>\n",
       "    <tr style=\"text-align: right;\">\n",
       "      <th></th>\n",
       "      <th>Attrition Percentage</th>\n",
       "    </tr>\n",
       "    <tr>\n",
       "      <th>EducationField</th>\n",
       "      <th></th>\n",
       "    </tr>\n",
       "  </thead>\n",
       "  <tbody>\n",
       "    <tr>\n",
       "      <th>Human Resources</th>\n",
       "      <td>40.740741</td>\n",
       "    </tr>\n",
       "    <tr>\n",
       "      <th>Life Sciences</th>\n",
       "      <td>16.731302</td>\n",
       "    </tr>\n",
       "    <tr>\n",
       "      <th>Marketing</th>\n",
       "      <td>15.723270</td>\n",
       "    </tr>\n",
       "    <tr>\n",
       "      <th>Medical</th>\n",
       "      <td>16.210375</td>\n",
       "    </tr>\n",
       "    <tr>\n",
       "      <th>Other</th>\n",
       "      <td>12.295082</td>\n",
       "    </tr>\n",
       "    <tr>\n",
       "      <th>Technical Degree</th>\n",
       "      <td>11.392405</td>\n",
       "    </tr>\n",
       "  </tbody>\n",
       "</table>\n",
       "</div>"
      ],
      "text/plain": [
       "                  Attrition Percentage\n",
       "EducationField                        \n",
       "Human Resources              40.740741\n",
       "Life Sciences                16.731302\n",
       "Marketing                    15.723270\n",
       "Medical                      16.210375\n",
       "Other                        12.295082\n",
       "Technical Degree             11.392405"
      ]
     },
     "execution_count": 33,
     "metadata": {},
     "output_type": "execute_result"
    }
   ],
   "source": [
    "# Calculating the Attrition rate in Education Field\n",
    "edu_attrition_count = df.groupby('EducationField')['Attrition'].value_counts().unstack()\n",
    "\n",
    "# Calculate the percentage of attrition as 'Yes' \n",
    "edu_attrition_percentage = (edu_attrition_count['Yes'] / edu_attrition_count.sum(axis=1)) * 100\n",
    "\n",
    "# Combine count and percentage into a DataFrame\n",
    "edu_attrition_summary = pd.DataFrame({'Attrition Percentage': edu_attrition_percentage})\n",
    "\n",
    "edu_attrition_summary"
   ]
  },
  {
   "cell_type": "markdown",
   "id": "602f8526",
   "metadata": {},
   "source": [
    "## Observations:\n",
    "* Most attritions are from `Life Sciences` field followed by `Medical` field, but the highest percentage of Attrition `EducationFiled` wise is from Human Resource.\n",
    "* Least are from `Technical Degree`."
   ]
  },
  {
   "cell_type": "code",
   "execution_count": null,
   "id": "215aa179",
   "metadata": {},
   "outputs": [],
   "source": []
  },
  {
   "cell_type": "code",
   "execution_count": 34,
   "id": "c4bbf7e1",
   "metadata": {},
   "outputs": [
    {
     "data": {
      "text/html": [
       "<div>\n",
       "<style scoped>\n",
       "    .dataframe tbody tr th:only-of-type {\n",
       "        vertical-align: middle;\n",
       "    }\n",
       "\n",
       "    .dataframe tbody tr th {\n",
       "        vertical-align: top;\n",
       "    }\n",
       "\n",
       "    .dataframe thead th {\n",
       "        text-align: right;\n",
       "    }\n",
       "</style>\n",
       "<table border=\"1\" class=\"dataframe\">\n",
       "  <thead>\n",
       "    <tr style=\"text-align: right;\">\n",
       "      <th>DistanceFromHome</th>\n",
       "      <th>Near</th>\n",
       "      <th>Far</th>\n",
       "      <th>Very Far</th>\n",
       "    </tr>\n",
       "    <tr>\n",
       "      <th>Attrition</th>\n",
       "      <th></th>\n",
       "      <th></th>\n",
       "      <th></th>\n",
       "    </tr>\n",
       "  </thead>\n",
       "  <tbody>\n",
       "    <tr>\n",
       "      <th>No</th>\n",
       "      <td>1420</td>\n",
       "      <td>1379</td>\n",
       "      <td>881</td>\n",
       "    </tr>\n",
       "    <tr>\n",
       "      <th>Yes</th>\n",
       "      <td>273</td>\n",
       "      <td>257</td>\n",
       "      <td>180</td>\n",
       "    </tr>\n",
       "  </tbody>\n",
       "</table>\n",
       "</div>"
      ],
      "text/plain": [
       "DistanceFromHome  Near   Far  Very Far\n",
       "Attrition                             \n",
       "No                1420  1379       881\n",
       "Yes                273   257       180"
      ]
     },
     "execution_count": 34,
     "metadata": {},
     "output_type": "execute_result"
    }
   ],
   "source": [
    "## Attritions by Distance from Home\n",
    "attr_dist = pd.crosstab(df['Attrition'], df['DistanceFromHome'])\n",
    "attr_dist"
   ]
  },
  {
   "cell_type": "code",
   "execution_count": null,
   "id": "f2fdaca3",
   "metadata": {},
   "outputs": [],
   "source": []
  },
  {
   "cell_type": "code",
   "execution_count": 35,
   "id": "2eaa981e",
   "metadata": {},
   "outputs": [
    {
     "data": {
      "text/html": [
       "<div>\n",
       "<style scoped>\n",
       "    .dataframe tbody tr th:only-of-type {\n",
       "        vertical-align: middle;\n",
       "    }\n",
       "\n",
       "    .dataframe tbody tr th {\n",
       "        vertical-align: top;\n",
       "    }\n",
       "\n",
       "    .dataframe thead th {\n",
       "        text-align: right;\n",
       "    }\n",
       "</style>\n",
       "<table border=\"1\" class=\"dataframe\">\n",
       "  <thead>\n",
       "    <tr style=\"text-align: right;\">\n",
       "      <th>Attrition</th>\n",
       "      <th>No</th>\n",
       "      <th>Yes</th>\n",
       "    </tr>\n",
       "    <tr>\n",
       "      <th>JobRole</th>\n",
       "      <th></th>\n",
       "      <th></th>\n",
       "    </tr>\n",
       "  </thead>\n",
       "  <tbody>\n",
       "    <tr>\n",
       "      <th>Healthcare Representative</th>\n",
       "      <td>333</td>\n",
       "      <td>57</td>\n",
       "    </tr>\n",
       "    <tr>\n",
       "      <th>Human Resources</th>\n",
       "      <td>134</td>\n",
       "      <td>21</td>\n",
       "    </tr>\n",
       "    <tr>\n",
       "      <th>Laboratory Technician</th>\n",
       "      <td>649</td>\n",
       "      <td>126</td>\n",
       "    </tr>\n",
       "    <tr>\n",
       "      <th>Manager</th>\n",
       "      <td>264</td>\n",
       "      <td>41</td>\n",
       "    </tr>\n",
       "    <tr>\n",
       "      <th>Manufacturing Director</th>\n",
       "      <td>383</td>\n",
       "      <td>48</td>\n",
       "    </tr>\n",
       "    <tr>\n",
       "      <th>Research Director</th>\n",
       "      <td>182</td>\n",
       "      <td>57</td>\n",
       "    </tr>\n",
       "    <tr>\n",
       "      <th>Research Scientist</th>\n",
       "      <td>714</td>\n",
       "      <td>159</td>\n",
       "    </tr>\n",
       "    <tr>\n",
       "      <th>Sales Executive</th>\n",
       "      <td>809</td>\n",
       "      <td>165</td>\n",
       "    </tr>\n",
       "    <tr>\n",
       "      <th>Sales Representative</th>\n",
       "      <td>212</td>\n",
       "      <td>36</td>\n",
       "    </tr>\n",
       "  </tbody>\n",
       "</table>\n",
       "</div>"
      ],
      "text/plain": [
       "Attrition                   No  Yes\n",
       "JobRole                            \n",
       "Healthcare Representative  333   57\n",
       "Human Resources            134   21\n",
       "Laboratory Technician      649  126\n",
       "Manager                    264   41\n",
       "Manufacturing Director     383   48\n",
       "Research Director          182   57\n",
       "Research Scientist         714  159\n",
       "Sales Executive            809  165\n",
       "Sales Representative       212   36"
      ]
     },
     "execution_count": 35,
     "metadata": {},
     "output_type": "execute_result"
    }
   ],
   "source": [
    "## Total number of Employees in each Job Role\n",
    "Job_role_crosstab = pd.crosstab(df['JobRole'], df['Attrition'])\n",
    "Job_role_crosstab"
   ]
  },
  {
   "cell_type": "code",
   "execution_count": 36,
   "id": "7876a163",
   "metadata": {},
   "outputs": [
    {
     "data": {
      "text/html": [
       "<div>\n",
       "<style scoped>\n",
       "    .dataframe tbody tr th:only-of-type {\n",
       "        vertical-align: middle;\n",
       "    }\n",
       "\n",
       "    .dataframe tbody tr th {\n",
       "        vertical-align: top;\n",
       "    }\n",
       "\n",
       "    .dataframe thead th {\n",
       "        text-align: right;\n",
       "    }\n",
       "</style>\n",
       "<table border=\"1\" class=\"dataframe\">\n",
       "  <thead>\n",
       "    <tr style=\"text-align: right;\">\n",
       "      <th></th>\n",
       "      <th>Attrition Percentage</th>\n",
       "    </tr>\n",
       "    <tr>\n",
       "      <th>JobRole</th>\n",
       "      <th></th>\n",
       "    </tr>\n",
       "  </thead>\n",
       "  <tbody>\n",
       "    <tr>\n",
       "      <th>Healthcare Representative</th>\n",
       "      <td>14.615385</td>\n",
       "    </tr>\n",
       "    <tr>\n",
       "      <th>Human Resources</th>\n",
       "      <td>13.548387</td>\n",
       "    </tr>\n",
       "    <tr>\n",
       "      <th>Laboratory Technician</th>\n",
       "      <td>16.258065</td>\n",
       "    </tr>\n",
       "    <tr>\n",
       "      <th>Manager</th>\n",
       "      <td>13.442623</td>\n",
       "    </tr>\n",
       "    <tr>\n",
       "      <th>Manufacturing Director</th>\n",
       "      <td>11.136891</td>\n",
       "    </tr>\n",
       "    <tr>\n",
       "      <th>Research Director</th>\n",
       "      <td>23.849372</td>\n",
       "    </tr>\n",
       "    <tr>\n",
       "      <th>Research Scientist</th>\n",
       "      <td>18.213058</td>\n",
       "    </tr>\n",
       "    <tr>\n",
       "      <th>Sales Executive</th>\n",
       "      <td>16.940452</td>\n",
       "    </tr>\n",
       "    <tr>\n",
       "      <th>Sales Representative</th>\n",
       "      <td>14.516129</td>\n",
       "    </tr>\n",
       "  </tbody>\n",
       "</table>\n",
       "</div>"
      ],
      "text/plain": [
       "                           Attrition Percentage\n",
       "JobRole                                        \n",
       "Healthcare Representative             14.615385\n",
       "Human Resources                       13.548387\n",
       "Laboratory Technician                 16.258065\n",
       "Manager                               13.442623\n",
       "Manufacturing Director                11.136891\n",
       "Research Director                     23.849372\n",
       "Research Scientist                    18.213058\n",
       "Sales Executive                       16.940452\n",
       "Sales Representative                  14.516129"
      ]
     },
     "execution_count": 36,
     "metadata": {},
     "output_type": "execute_result"
    }
   ],
   "source": [
    "# Calculating the Attrition rate in different Job Roles\n",
    "jobrole_attrition_count = df.groupby('JobRole')['Attrition'].value_counts().unstack()\n",
    "\n",
    "# Calculate the percentage of attrition as 'Yes' \n",
    "jobrole_attrition_percentage = (jobrole_attrition_count['Yes'] / jobrole_attrition_count.sum(axis=1)) * 100\n",
    "\n",
    "# Combine count and percentage into a DataFrame\n",
    "jobrole_attrition_summary = pd.DataFrame({'Attrition Percentage': jobrole_attrition_percentage})\n",
    "\n",
    "jobrole_attrition_summary"
   ]
  },
  {
   "cell_type": "code",
   "execution_count": 37,
   "id": "29525c54",
   "metadata": {},
   "outputs": [
    {
     "data": {
      "image/png": "[encoded data removed]",
      "text/plain": [
       "<Figure size 1200x600 with 1 Axes>"
      ]
     },
     "metadata": {},
     "output_type": "display_data"
    }
   ],
   "source": [
    "## Number of employees in Different Job roles with Attrition\n",
    "plt.figure(figsize=(12,6))\n",
    "job_role = sns.countplot(x='JobRole',data=df, hue='Attrition')\n",
    "plt.title('Number of Eployees in each JobRole')\n",
    "plt.xticks(rotation=45)\n",
    "plt.tight_layout();"
   ]
  },
  {
   "cell_type": "markdown",
   "id": "f40a479a",
   "metadata": {},
   "source": [
    "## Observations:\n",
    "* Highest Attrition is in `Sales Executive` followed by `Research Scientist`.\n",
    "* But the highest rate of Attrition is in `Research Director`."
   ]
  },
  {
   "cell_type": "code",
   "execution_count": null,
   "id": "5625be26",
   "metadata": {},
   "outputs": [],
   "source": []
  },
  {
   "cell_type": "code",
   "execution_count": 38,
   "id": "8cba475a",
   "metadata": {},
   "outputs": [
    {
     "data": {
      "text/html": [
       "<div>\n",
       "<style scoped>\n",
       "    .dataframe tbody tr th:only-of-type {\n",
       "        vertical-align: middle;\n",
       "    }\n",
       "\n",
       "    .dataframe tbody tr th {\n",
       "        vertical-align: top;\n",
       "    }\n",
       "\n",
       "    .dataframe thead th {\n",
       "        text-align: right;\n",
       "    }\n",
       "</style>\n",
       "<table border=\"1\" class=\"dataframe\">\n",
       "  <thead>\n",
       "    <tr style=\"text-align: right;\">\n",
       "      <th>Attrition</th>\n",
       "      <th>No</th>\n",
       "      <th>Yes</th>\n",
       "    </tr>\n",
       "    <tr>\n",
       "      <th>MonthlyIncome</th>\n",
       "      <th></th>\n",
       "      <th></th>\n",
       "    </tr>\n",
       "  </thead>\n",
       "  <tbody>\n",
       "    <tr>\n",
       "      <th>10,090-49,999</th>\n",
       "      <td>1860</td>\n",
       "      <td>375</td>\n",
       "    </tr>\n",
       "    <tr>\n",
       "      <th>50,000-99,999</th>\n",
       "      <td>1095</td>\n",
       "      <td>218</td>\n",
       "    </tr>\n",
       "    <tr>\n",
       "      <th>100,000-149,999</th>\n",
       "      <td>387</td>\n",
       "      <td>57</td>\n",
       "    </tr>\n",
       "    <tr>\n",
       "      <th>150,000+</th>\n",
       "      <td>338</td>\n",
       "      <td>60</td>\n",
       "    </tr>\n",
       "  </tbody>\n",
       "</table>\n",
       "</div>"
      ],
      "text/plain": [
       "Attrition          No  Yes\n",
       "MonthlyIncome             \n",
       "10,090-49,999    1860  375\n",
       "50,000-99,999    1095  218\n",
       "100,000-149,999   387   57\n",
       "150,000+          338   60"
      ]
     },
     "execution_count": 38,
     "metadata": {},
     "output_type": "execute_result"
    }
   ],
   "source": [
    "## checking the attritions based on monthly_income\n",
    "## Total number of Employees in each Job Role\n",
    "income_crosstab = pd.crosstab(df['MonthlyIncome'], df['Attrition'])\n",
    "income_crosstab"
   ]
  },
  {
   "cell_type": "code",
   "execution_count": 39,
   "id": "9169b4f4",
   "metadata": {},
   "outputs": [
    {
     "data": {
      "text/html": [
       "<div>\n",
       "<style scoped>\n",
       "    .dataframe tbody tr th:only-of-type {\n",
       "        vertical-align: middle;\n",
       "    }\n",
       "\n",
       "    .dataframe tbody tr th {\n",
       "        vertical-align: top;\n",
       "    }\n",
       "\n",
       "    .dataframe thead th {\n",
       "        text-align: right;\n",
       "    }\n",
       "</style>\n",
       "<table border=\"1\" class=\"dataframe\">\n",
       "  <thead>\n",
       "    <tr style=\"text-align: right;\">\n",
       "      <th></th>\n",
       "      <th>Attrition Percentage</th>\n",
       "    </tr>\n",
       "    <tr>\n",
       "      <th>MonthlyIncome</th>\n",
       "      <th></th>\n",
       "    </tr>\n",
       "  </thead>\n",
       "  <tbody>\n",
       "    <tr>\n",
       "      <th>10,090-49,999</th>\n",
       "      <td>16.778523</td>\n",
       "    </tr>\n",
       "    <tr>\n",
       "      <th>50,000-99,999</th>\n",
       "      <td>16.603199</td>\n",
       "    </tr>\n",
       "    <tr>\n",
       "      <th>100,000-149,999</th>\n",
       "      <td>12.837838</td>\n",
       "    </tr>\n",
       "    <tr>\n",
       "      <th>150,000+</th>\n",
       "      <td>15.075377</td>\n",
       "    </tr>\n",
       "  </tbody>\n",
       "</table>\n",
       "</div>"
      ],
      "text/plain": [
       "                 Attrition Percentage\n",
       "MonthlyIncome                        \n",
       "10,090-49,999               16.778523\n",
       "50,000-99,999               16.603199\n",
       "100,000-149,999             12.837838\n",
       "150,000+                    15.075377"
      ]
     },
     "execution_count": 39,
     "metadata": {},
     "output_type": "execute_result"
    }
   ],
   "source": [
    "# Calculating the Attrition rate for monthly_income\n",
    "income_attrition_count = df.groupby('MonthlyIncome')['Attrition'].value_counts().unstack()\n",
    "\n",
    "# Calculate the percentage of attrition as 'Yes' \n",
    "income_attrition_percentage = (income_attrition_count['Yes'] / income_attrition_count.sum(axis=1)) * 100\n",
    "\n",
    "# Combine count and percentage into a DataFrame\n",
    "income_attrition_summary = pd.DataFrame({'Attrition Percentage': income_attrition_percentage})\n",
    "\n",
    "income_attrition_summary"
   ]
  }
 ],
 "metadata": {
  "kernelspec": {
   "display_name": "Python 3 (ipykernel)",
   "language": "python",
   "name": "python3"
  },
  "language_info": {
   "codemirror_mode": {
    "name": "ipython",
    "version": 3
   },
   "file_extension": ".py",
   "mimetype": "text/x-python",
   "name": "python",
   "nbconvert_exporter": "python",
   "pygments_lexer": "ipython3",
   "version": "3.9.13"
  }
 },
 "nbformat": 4,
 "nbformat_minor": 5
}
